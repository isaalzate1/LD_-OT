{
 "cells": [
  {
   "cell_type": "code",
   "execution_count": 1,
   "metadata": {},
   "outputs": [
    {
     "name": "stdout",
     "output_type": "stream",
     "text": [
      "<class 'pandas.core.frame.DataFrame'>\n",
      "RangeIndex: 672 entries, 0 to 671\n",
      "Data columns (total 15 columns):\n",
      " #   Column             Non-Null Count  Dtype  \n",
      "---  ------             --------------  -----  \n",
      " 0   index              672 non-null    int64  \n",
      " 1   Job Title          672 non-null    object \n",
      " 2   Salary Estimate    672 non-null    object \n",
      " 3   Job Description    672 non-null    object \n",
      " 4   Rating             672 non-null    float64\n",
      " 5   Company Name       672 non-null    object \n",
      " 6   Location           672 non-null    object \n",
      " 7   Headquarters       672 non-null    object \n",
      " 8   Size               672 non-null    object \n",
      " 9   Founded            672 non-null    int64  \n",
      " 10  Type of ownership  672 non-null    object \n",
      " 11  Industry           672 non-null    object \n",
      " 12  Sector             672 non-null    object \n",
      " 13  Revenue            672 non-null    object \n",
      " 14  Competitors        672 non-null    object \n",
      "dtypes: float64(1), int64(2), object(12)\n",
      "memory usage: 78.9+ KB\n",
      "<class 'pandas.core.frame.DataFrame'>\n",
      "RangeIndex: 660 entries, 0 to 659\n",
      "Data columns (total 27 columns):\n",
      " #   Column             Non-Null Count  Dtype  \n",
      "---  ------             --------------  -----  \n",
      " 0   Job Title          660 non-null    object \n",
      " 1   Salary Estimate    660 non-null    object \n",
      " 2   Job Description    660 non-null    object \n",
      " 3   Rating             660 non-null    float64\n",
      " 4   Company Name       660 non-null    object \n",
      " 5   Location           660 non-null    object \n",
      " 6   Headquarters       660 non-null    object \n",
      " 7   Size               660 non-null    object \n",
      " 8   Type of ownership  660 non-null    object \n",
      " 9   Industry           660 non-null    object \n",
      " 10  Sector             660 non-null    object \n",
      " 11  Revenue            660 non-null    object \n",
      " 12  min_salary         660 non-null    int64  \n",
      " 13  max_salary         660 non-null    int64  \n",
      " 14  avg_salary         660 non-null    int64  \n",
      " 15  job_state          660 non-null    object \n",
      " 16  same_state         660 non-null    int64  \n",
      " 17  company_age        660 non-null    int64  \n",
      " 18  python             660 non-null    int64  \n",
      " 19  excel              660 non-null    int64  \n",
      " 20  hadoop             660 non-null    int64  \n",
      " 21  spark              660 non-null    int64  \n",
      " 22  aws                660 non-null    int64  \n",
      " 23  tableau            660 non-null    int64  \n",
      " 24  big_data           660 non-null    int64  \n",
      " 25  job_simp           660 non-null    object \n",
      " 26  seniority          660 non-null    object \n",
      "dtypes: float64(1), int64(12), object(14)\n",
      "memory usage: 139.3+ KB\n"
     ]
    },
    {
     "data": {
      "text/plain": [
       "(   index          Job Title               Salary Estimate  \\\n",
       " 0      0  Sr Data Scientist  $137K-$171K (Glassdoor est.)   \n",
       " 1      1     Data Scientist  $137K-$171K (Glassdoor est.)   \n",
       " 2      2     Data Scientist  $137K-$171K (Glassdoor est.)   \n",
       " 3      3     Data Scientist  $137K-$171K (Glassdoor est.)   \n",
       " 4      4     Data Scientist  $137K-$171K (Glassdoor est.)   \n",
       " \n",
       "                                      Job Description  Rating  \\\n",
       " 0  Description\\n\\nThe Senior Data Scientist is re...     3.1   \n",
       " 1  Secure our Nation, Ignite your Future\\n\\nJoin ...     4.2   \n",
       " 2  Overview\\n\\n\\nAnalysis Group is one of the lar...     3.8   \n",
       " 3  JOB DESCRIPTION:\\n\\nDo you have a passion for ...     3.5   \n",
       " 4  Data Scientist\\nAffinity Solutions / Marketing...     2.9   \n",
       " \n",
       "               Company Name       Location            Headquarters  \\\n",
       " 0         Healthfirst\\n3.1   New York, NY            New York, NY   \n",
       " 1             ManTech\\n4.2  Chantilly, VA             Herndon, VA   \n",
       " 2      Analysis Group\\n3.8     Boston, MA              Boston, MA   \n",
       " 3             INFICON\\n3.5     Newton, MA  Bad Ragaz, Switzerland   \n",
       " 4  Affinity Solutions\\n2.9   New York, NY            New York, NY   \n",
       " \n",
       "                       Size  Founded        Type of ownership  \\\n",
       " 0   1001 to 5000 employees     1993   Nonprofit Organization   \n",
       " 1  5001 to 10000 employees     1968         Company - Public   \n",
       " 2   1001 to 5000 employees     1981  Private Practice / Firm   \n",
       " 3    501 to 1000 employees     2000         Company - Public   \n",
       " 4      51 to 200 employees     1998        Company - Private   \n",
       " \n",
       "                                 Industry             Sector  \\\n",
       " 0                     Insurance Carriers          Insurance   \n",
       " 1                 Research & Development  Business Services   \n",
       " 2                             Consulting  Business Services   \n",
       " 3  Electrical & Electronic Manufacturing      Manufacturing   \n",
       " 4                Advertising & Marketing  Business Services   \n",
       " \n",
       "                       Revenue  \\\n",
       " 0    Unknown / Non-Applicable   \n",
       " 1      $1 to $2 billion (USD)   \n",
       " 2  $100 to $500 million (USD)   \n",
       " 3  $100 to $500 million (USD)   \n",
       " 4    Unknown / Non-Applicable   \n",
       " \n",
       "                                          Competitors  \n",
       " 0            EmblemHealth, UnitedHealth Group, Aetna  \n",
       " 1                                                 -1  \n",
       " 2                                                 -1  \n",
       " 3  MKS Instruments, Pfeiffer Vacuum, Agilent Tech...  \n",
       " 4               Commerce Signals, Cardlytics, Yodlee  ,\n",
       "            Job Title Salary Estimate  \\\n",
       " 0  Sr Data Scientist        137-171    \n",
       " 1     Data Scientist        137-171    \n",
       " 2     Data Scientist        137-171    \n",
       " 3     Data Scientist        137-171    \n",
       " 4     Data Scientist        137-171    \n",
       " \n",
       "                                      Job Description  Rating  \\\n",
       " 0  Description\\n\\nThe Senior Data Scientist is re...     3.1   \n",
       " 1  Secure our Nation, Ignite your Future\\n\\nJoin ...     4.2   \n",
       " 2  Overview\\n\\n\\nAnalysis Group is one of the lar...     3.8   \n",
       " 3  JOB DESCRIPTION:\\n\\nDo you have a passion for ...     3.5   \n",
       " 4  Data Scientist\\nAffinity Solutions / Marketing...     2.9   \n",
       " \n",
       "          Company Name       Location            Headquarters  \\\n",
       " 0         Healthfirst   New York, NY            New York, NY   \n",
       " 1             ManTech  Chantilly, VA             Herndon, VA   \n",
       " 2      Analysis Group     Boston, MA              Boston, MA   \n",
       " 3             INFICON     Newton, MA  Bad Ragaz, Switzerland   \n",
       " 4  Affinity Solutions   New York, NY            New York, NY   \n",
       " \n",
       "                       Size        Type of ownership  \\\n",
       " 0   1001 to 5000 employees   Nonprofit Organization   \n",
       " 1  5001 to 10000 employees         Company - Public   \n",
       " 2   1001 to 5000 employees  Private Practice / Firm   \n",
       " 3    501 to 1000 employees         Company - Public   \n",
       " 4      51 to 200 employees        Company - Private   \n",
       " \n",
       "                                 Industry  ... company_age python  excel  \\\n",
       " 0                     Insurance Carriers  ...          27      0      0   \n",
       " 1                 Research & Development  ...          52      0      0   \n",
       " 2                             Consulting  ...          39      1      1   \n",
       " 3  Electrical & Electronic Manufacturing  ...          20      1      1   \n",
       " 4                Advertising & Marketing  ...          22      1      1   \n",
       " \n",
       "    hadoop  spark aws  tableau  big_data        job_simp  seniority  \n",
       " 0       0      0   1        0         0  data scientist     senior  \n",
       " 1       1      0   0        0         1  data scientist         na  \n",
       " 2       0      0   1        0         0  data scientist         na  \n",
       " 3       0      0   1        0         0  data scientist         na  \n",
       " 4       0      0   0        0         0  data scientist         na  \n",
       " \n",
       " [5 rows x 27 columns],\n",
       " None,\n",
       " None)"
      ]
     },
     "execution_count": 1,
     "metadata": {},
     "output_type": "execute_result"
    }
   ],
   "source": [
    "# Importar pandas y cargar los datos\n",
    "import pandas as pd\n",
    "\n",
    "# Cargar el dataset no limpio y el dataset limpio\n",
    "uncleaned_data = pd.read_csv('Uncleaned_DS_jobs.csv')\n",
    "cleaned_data = pd.read_csv('Cleaned_DS_Jobs.csv')\n",
    "\n",
    "# Ver las primeras filas y la información general de ambos datasets\n",
    "uncleaned_data.head(), cleaned_data.head(), uncleaned_data.info(), cleaned_data.info()\n"
   ]
  },
  {
   "cell_type": "code",
   "execution_count": 2,
   "metadata": {},
   "outputs": [
    {
     "data": {
      "text/plain": [
       "index                  0\n",
       "Job Title              0\n",
       "Salary Estimate        0\n",
       "Job Description        0\n",
       "Rating                 0\n",
       "Company Name           0\n",
       "Location               0\n",
       "Headquarters          31\n",
       "Size                  27\n",
       "Founded                0\n",
       "Type of ownership     27\n",
       "Industry              71\n",
       "Sector                71\n",
       "Revenue               27\n",
       "Competitors          501\n",
       "dtype: int64"
      ]
     },
     "execution_count": 2,
     "metadata": {},
     "output_type": "execute_result"
    }
   ],
   "source": [
    "# Reemplazar valores de placeholder como '-1' con NaN en el dataset no limpio\n",
    "uncleaned_data.replace('-1', pd.NA, inplace=True)\n",
    "\n",
    "# Verificar los valores faltantes en cada columna\n",
    "missing_values_count = uncleaned_data.isna().sum()\n",
    "missing_values_count\n"
   ]
  },
  {
   "cell_type": "code",
   "execution_count": 3,
   "metadata": {},
   "outputs": [
    {
     "data": {
      "text/plain": [
       "((672, 15), np.int64(0))"
      ]
     },
     "execution_count": 3,
     "metadata": {},
     "output_type": "execute_result"
    }
   ],
   "source": [
    "# Verificar duplicados en el dataset no limpio\n",
    "duplicate_rows = uncleaned_data.duplicated().sum()\n",
    "\n",
    "# Eliminar duplicados si los hay\n",
    "uncleaned_data = uncleaned_data.drop_duplicates()\n",
    "\n",
    "# Confirmar la eliminación de duplicados\n",
    "uncleaned_data.shape, duplicate_rows\n"
   ]
  },
  {
   "cell_type": "code",
   "execution_count": 4,
   "metadata": {},
   "outputs": [
    {
     "data": {
      "text/plain": [
       "(         Company Name       Location\n",
       " 0         Healthfirst   New York, NY\n",
       " 1             ManTech  Chantilly, VA\n",
       " 2      Analysis Group     Boston, MA\n",
       " 3             INFICON     Newton, MA\n",
       " 4  Affinity Solutions   New York, NY,\n",
       "          Company Name       Location\n",
       " 0         Healthfirst   New York, NY\n",
       " 1             ManTech  Chantilly, VA\n",
       " 2      Analysis Group     Boston, MA\n",
       " 3             INFICON     Newton, MA\n",
       " 4  Affinity Solutions   New York, NY)"
      ]
     },
     "execution_count": 4,
     "metadata": {},
     "output_type": "execute_result"
    }
   ],
   "source": [
    "# Limpiar el formato en 'Company Name' del dataset no limpio\n",
    "uncleaned_data['Company Name'] = uncleaned_data['Company Name'].str.split('\\\\n').str[0]\n",
    "\n",
    "# Confirmar cambios en comparación con el dataset limpio\n",
    "uncleaned_data[['Company Name', 'Location']].head(), cleaned_data[['Company Name', 'Location']].head()\n"
   ]
  },
  {
   "cell_type": "code",
   "execution_count": 11,
   "metadata": {},
   "outputs": [
    {
     "name": "stdout",
     "output_type": "stream",
     "text": [
      "Columnas en uncleaned_data: Index(['index', 'Job Title', 'Salary Estimate', 'Job Description', 'Rating',\n",
      "       'Company Name', 'Location', 'Headquarters', 'Size', 'Founded',\n",
      "       'Type of ownership', 'Industry', 'Sector', 'Revenue', 'Competitors',\n",
      "       'Min Salary', 'Max Salary', 'Company Age'],\n",
      "      dtype='object')\n",
      "Columnas en cleaned_data: Index(['Job Title', 'Salary Estimate', 'Job Description', 'Rating',\n",
      "       'Company Name', 'Location', 'Headquarters', 'Size', 'Type of ownership',\n",
      "       'Industry', 'Sector', 'Revenue', 'min_salary', 'max_salary',\n",
      "       'avg_salary', 'job_state', 'same_state', 'company_age', 'python',\n",
      "       'excel', 'hadoop', 'spark', 'aws', 'tableau', 'big_data', 'job_simp',\n",
      "       'seniority'],\n",
      "      dtype='object')\n"
     ]
    }
   ],
   "source": [
    "# Revisar nombres de columnas en ambos archivos\n",
    "print(\"Columnas en uncleaned_data:\", uncleaned_data.columns)\n",
    "print(\"Columnas en cleaned_data:\", cleaned_data.columns)\n"
   ]
  },
  {
   "cell_type": "code",
   "execution_count": 12,
   "metadata": {},
   "outputs": [
    {
     "data": {
      "text/plain": [
       "(   Founded  Company Age\n",
       " 0     1993           31\n",
       " 1     1968           56\n",
       " 2     1981           43\n",
       " 3     2000           24\n",
       " 4     1998           26,\n",
       "    company_age\n",
       " 0           27\n",
       " 1           52\n",
       " 2           39\n",
       " 3           20\n",
       " 4           22)"
      ]
     },
     "execution_count": 12,
     "metadata": {},
     "output_type": "execute_result"
    }
   ],
   "source": [
    "# Comparación para las columnas de salario\n",
    "uncleaned_data[['Salary Estimate', 'Min Salary', 'Max Salary']].head(), cleaned_data[['Salary Estimate', 'min_salary', 'max_salary']].head()\n",
    "\n",
    "# Comparación para la antigüedad de la empresa (Company Age)\n",
    "uncleaned_data[['Founded', 'Company Age']].head(), cleaned_data[['company_age']].head()\n"
   ]
  },
  {
   "cell_type": "code",
   "execution_count": 16,
   "metadata": {},
   "outputs": [
    {
     "data": {
      "text/plain": [
       "(   Company Age\n",
       " 0           31\n",
       " 1           56\n",
       " 2           43\n",
       " 3           24\n",
       " 4           26,\n",
       "    company_age\n",
       " 0           27\n",
       " 1           52\n",
       " 2           39\n",
       " 3           20\n",
       " 4           22)"
      ]
     },
     "execution_count": 16,
     "metadata": {},
     "output_type": "execute_result"
    }
   ],
   "source": [
    "from datetime import datetime\n",
    "\n",
    "# Calcular antigüedad de la empresa en el dataset no limpio\n",
    "current_year = datetime.now().year\n",
    "uncleaned_data['Company Age'] = current_year - uncleaned_data['Founded']\n",
    "uncleaned_data['Company Age'] = uncleaned_data['Company Age'].replace({current_year: pd.NA})\n",
    "\n",
    "# Comparación de antigüedad de la empresa entre datasets\n",
    "uncleaned_data[['Company Age']].head(), cleaned_data[['company_age']].head()\n"
   ]
  },
  {
   "cell_type": "code",
   "execution_count": 20,
   "metadata": {},
   "outputs": [
    {
     "data": {
      "text/plain": [
       "(Index(['Job Title', 'Salary Estimate', 'Job Description', 'Rating',\n",
       "        'Company Name', 'Location', 'Headquarters', 'Size', 'Founded',\n",
       "        'Type of ownership', 'Industry', 'Sector', 'Revenue', 'Competitors',\n",
       "        'Min Salary', 'Max Salary', 'Company Age'],\n",
       "       dtype='object'),\n",
       " Index(['Job Title', 'Salary Estimate', 'Job Description', 'Rating',\n",
       "        'Company Name', 'Location', 'Headquarters', 'Size', 'Type of ownership',\n",
       "        'Industry', 'Sector', 'Revenue', 'min_salary', 'max_salary',\n",
       "        'avg_salary', 'job_state', 'same_state', 'company_age', 'python',\n",
       "        'excel', 'hadoop', 'spark', 'aws', 'tableau', 'big_data', 'job_simp',\n",
       "        'seniority'],\n",
       "       dtype='object'))"
      ]
     },
     "execution_count": 20,
     "metadata": {},
     "output_type": "execute_result"
    }
   ],
   "source": [
    "# Eliminar la columna 'index' del dataset no limpio si es redundante\n",
    "uncleaned_data = uncleaned_data.drop(columns=['index'])\n",
    "\n",
    "# Confirmar eliminación de columna redundante\n",
    "uncleaned_data.columns, cleaned_data.columns\n"
   ]
  },
  {
   "cell_type": "code",
   "execution_count": 24,
   "metadata": {},
   "outputs": [
    {
     "data": {
      "text/html": [
       "<div>\n",
       "<style scoped>\n",
       "    .dataframe tbody tr th:only-of-type {\n",
       "        vertical-align: middle;\n",
       "    }\n",
       "\n",
       "    .dataframe tbody tr th {\n",
       "        vertical-align: top;\n",
       "    }\n",
       "\n",
       "    .dataframe thead th {\n",
       "        text-align: right;\n",
       "    }\n",
       "</style>\n",
       "<table border=\"1\" class=\"dataframe\">\n",
       "  <thead>\n",
       "    <tr style=\"text-align: right;\">\n",
       "      <th></th>\n",
       "      <th>Location</th>\n",
       "      <th>City</th>\n",
       "      <th>State</th>\n",
       "    </tr>\n",
       "  </thead>\n",
       "  <tbody>\n",
       "    <tr>\n",
       "      <th>0</th>\n",
       "      <td>New York, NY</td>\n",
       "      <td>New York</td>\n",
       "      <td>NY</td>\n",
       "    </tr>\n",
       "    <tr>\n",
       "      <th>1</th>\n",
       "      <td>Chantilly, VA</td>\n",
       "      <td>Chantilly</td>\n",
       "      <td>VA</td>\n",
       "    </tr>\n",
       "    <tr>\n",
       "      <th>2</th>\n",
       "      <td>Boston, MA</td>\n",
       "      <td>Boston</td>\n",
       "      <td>MA</td>\n",
       "    </tr>\n",
       "    <tr>\n",
       "      <th>3</th>\n",
       "      <td>Newton, MA</td>\n",
       "      <td>Newton</td>\n",
       "      <td>MA</td>\n",
       "    </tr>\n",
       "    <tr>\n",
       "      <th>4</th>\n",
       "      <td>New York, NY</td>\n",
       "      <td>New York</td>\n",
       "      <td>NY</td>\n",
       "    </tr>\n",
       "  </tbody>\n",
       "</table>\n",
       "</div>"
      ],
      "text/plain": [
       "        Location       City State\n",
       "0   New York, NY   New York    NY\n",
       "1  Chantilly, VA  Chantilly    VA\n",
       "2     Boston, MA     Boston    MA\n",
       "3     Newton, MA     Newton    MA\n",
       "4   New York, NY   New York    NY"
      ]
     },
     "execution_count": 24,
     "metadata": {},
     "output_type": "execute_result"
    }
   ],
   "source": [
    "# Asegurarse de que todas las filas tienen una coma antes de dividir\n",
    "uncleaned_data[['City', 'State']] = (\n",
    "    uncleaned_data['Location']\n",
    "    .str.split(',', expand=True, n=1)  # Limitar a 1 división para obtener dos columnas\n",
    ")\n",
    "\n",
    "# Limpiar espacios adicionales\n",
    "uncleaned_data['City'] = uncleaned_data['City'].str.strip()\n",
    "uncleaned_data['State'] = uncleaned_data['State'].str.strip()\n",
    "\n",
    "# Verificar el resultado\n",
    "uncleaned_data[['Location', 'City', 'State']].head()\n"
   ]
  },
  {
   "cell_type": "code",
   "execution_count": 26,
   "metadata": {},
   "outputs": [
    {
     "data": {
      "text/html": [
       "<div>\n",
       "<style scoped>\n",
       "    .dataframe tbody tr th:only-of-type {\n",
       "        vertical-align: middle;\n",
       "    }\n",
       "\n",
       "    .dataframe tbody tr th {\n",
       "        vertical-align: top;\n",
       "    }\n",
       "\n",
       "    .dataframe thead th {\n",
       "        text-align: right;\n",
       "    }\n",
       "</style>\n",
       "<table border=\"1\" class=\"dataframe\">\n",
       "  <thead>\n",
       "    <tr style=\"text-align: right;\">\n",
       "      <th></th>\n",
       "      <th>Founded</th>\n",
       "      <th>Company Age</th>\n",
       "    </tr>\n",
       "  </thead>\n",
       "  <tbody>\n",
       "    <tr>\n",
       "      <th>0</th>\n",
       "      <td>1993</td>\n",
       "      <td>31</td>\n",
       "    </tr>\n",
       "    <tr>\n",
       "      <th>1</th>\n",
       "      <td>1968</td>\n",
       "      <td>56</td>\n",
       "    </tr>\n",
       "    <tr>\n",
       "      <th>2</th>\n",
       "      <td>1981</td>\n",
       "      <td>43</td>\n",
       "    </tr>\n",
       "    <tr>\n",
       "      <th>3</th>\n",
       "      <td>2000</td>\n",
       "      <td>24</td>\n",
       "    </tr>\n",
       "    <tr>\n",
       "      <th>4</th>\n",
       "      <td>1998</td>\n",
       "      <td>26</td>\n",
       "    </tr>\n",
       "  </tbody>\n",
       "</table>\n",
       "</div>"
      ],
      "text/plain": [
       "   Founded  Company Age\n",
       "0     1993           31\n",
       "1     1968           56\n",
       "2     1981           43\n",
       "3     2000           24\n",
       "4     1998           26"
      ]
     },
     "execution_count": 26,
     "metadata": {},
     "output_type": "execute_result"
    }
   ],
   "source": [
    "from datetime import datetime\n",
    "\n",
    "current_year = datetime.now().year\n",
    "uncleaned_data['Company Age'] = current_year - uncleaned_data['Founded']\n",
    "uncleaned_data['Company Age'] = uncleaned_data['Company Age'].replace({current_year: pd.NA})\n",
    "\n",
    "# Confirmar los cambios\n",
    "uncleaned_data[['Founded', 'Company Age']].head()\n"
   ]
  }
 ],
 "metadata": {
  "kernelspec": {
   "display_name": "Python 3",
   "language": "python",
   "name": "python3"
  },
  "language_info": {
   "codemirror_mode": {
    "name": "ipython",
    "version": 3
   },
   "file_extension": ".py",
   "mimetype": "text/x-python",
   "name": "python",
   "nbconvert_exporter": "python",
   "pygments_lexer": "ipython3",
   "version": "3.12.4"
  }
 },
 "nbformat": 4,
 "nbformat_minor": 2
}
